{
 "cells": [
  {
   "cell_type": "code",
   "execution_count": 1,
   "id": "af13cad9-c5b1-47f9-a074-819c65f3b3a4",
   "metadata": {},
   "outputs": [],
   "source": [
    "import numpy as np\n",
    "import matplotlib.pyplot as plt\n",
    "from sklearn.datasets import load_iris"
   ]
  },
  {
   "cell_type": "code",
   "execution_count": 2,
   "id": "f8017b9f-e9cb-4db4-8553-60bc8673efe9",
   "metadata": {},
   "outputs": [
    {
     "data": {
      "text/plain": [
       "['data',\n",
       " 'target',\n",
       " 'frame',\n",
       " 'target_names',\n",
       " 'DESCR',\n",
       " 'feature_names',\n",
       " 'filename',\n",
       " 'data_module']"
      ]
     },
     "execution_count": 2,
     "metadata": {},
     "output_type": "execute_result"
    }
   ],
   "source": [
    "iris = load_iris(as_frame=True)\n",
    "list(iris)"
   ]
  },
  {
   "cell_type": "code",
   "execution_count": 3,
   "id": "60adb279-e2f0-489a-98e8-706eead5aa95",
   "metadata": {},
   "outputs": [
    {
     "data": {
      "text/html": [
       "<div>\n",
       "<style scoped>\n",
       "    .dataframe tbody tr th:only-of-type {\n",
       "        vertical-align: middle;\n",
       "    }\n",
       "\n",
       "    .dataframe tbody tr th {\n",
       "        vertical-align: top;\n",
       "    }\n",
       "\n",
       "    .dataframe thead th {\n",
       "        text-align: right;\n",
       "    }\n",
       "</style>\n",
       "<table border=\"1\" class=\"dataframe\">\n",
       "  <thead>\n",
       "    <tr style=\"text-align: right;\">\n",
       "      <th></th>\n",
       "      <th>sepal length (cm)</th>\n",
       "      <th>sepal width (cm)</th>\n",
       "      <th>petal length (cm)</th>\n",
       "      <th>petal width (cm)</th>\n",
       "    </tr>\n",
       "  </thead>\n",
       "  <tbody>\n",
       "    <tr>\n",
       "      <th>0</th>\n",
       "      <td>5.1</td>\n",
       "      <td>3.5</td>\n",
       "      <td>1.4</td>\n",
       "      <td>0.2</td>\n",
       "    </tr>\n",
       "    <tr>\n",
       "      <th>1</th>\n",
       "      <td>4.9</td>\n",
       "      <td>3.0</td>\n",
       "      <td>1.4</td>\n",
       "      <td>0.2</td>\n",
       "    </tr>\n",
       "    <tr>\n",
       "      <th>2</th>\n",
       "      <td>4.7</td>\n",
       "      <td>3.2</td>\n",
       "      <td>1.3</td>\n",
       "      <td>0.2</td>\n",
       "    </tr>\n",
       "    <tr>\n",
       "      <th>3</th>\n",
       "      <td>4.6</td>\n",
       "      <td>3.1</td>\n",
       "      <td>1.5</td>\n",
       "      <td>0.2</td>\n",
       "    </tr>\n",
       "    <tr>\n",
       "      <th>4</th>\n",
       "      <td>5.0</td>\n",
       "      <td>3.6</td>\n",
       "      <td>1.4</td>\n",
       "      <td>0.2</td>\n",
       "    </tr>\n",
       "  </tbody>\n",
       "</table>\n",
       "</div>"
      ],
      "text/plain": [
       "   sepal length (cm)  sepal width (cm)  petal length (cm)  petal width (cm)\n",
       "0                5.1               3.5                1.4               0.2\n",
       "1                4.9               3.0                1.4               0.2\n",
       "2                4.7               3.2                1.3               0.2\n",
       "3                4.6               3.1                1.5               0.2\n",
       "4                5.0               3.6                1.4               0.2"
      ]
     },
     "execution_count": 3,
     "metadata": {},
     "output_type": "execute_result"
    }
   ],
   "source": [
    "iris.data.head()"
   ]
  },
  {
   "cell_type": "code",
   "execution_count": 4,
   "id": "667f6b38-8e33-45bf-9de4-cd37a5cf4ee9",
   "metadata": {},
   "outputs": [
    {
     "name": "stdout",
     "output_type": "stream",
     "text": [
      "<class 'pandas.core.frame.DataFrame'>\n",
      "RangeIndex: 150 entries, 0 to 149\n",
      "Data columns (total 4 columns):\n",
      " #   Column             Non-Null Count  Dtype  \n",
      "---  ------             --------------  -----  \n",
      " 0   sepal length (cm)  150 non-null    float64\n",
      " 1   sepal width (cm)   150 non-null    float64\n",
      " 2   petal length (cm)  150 non-null    float64\n",
      " 3   petal width (cm)   150 non-null    float64\n",
      "dtypes: float64(4)\n",
      "memory usage: 4.8 KB\n"
     ]
    }
   ],
   "source": [
    "iris.data.info()"
   ]
  },
  {
   "cell_type": "code",
   "execution_count": 5,
   "id": "3d896b50-ee8b-4cd2-a177-b7b163af0bc7",
   "metadata": {},
   "outputs": [
    {
     "data": {
      "text/plain": [
       "array(['setosa', 'versicolor', 'virginica'], dtype='<U10')"
      ]
     },
     "execution_count": 5,
     "metadata": {},
     "output_type": "execute_result"
    }
   ],
   "source": [
    "iris.target_names"
   ]
  },
  {
   "cell_type": "code",
   "execution_count": 6,
   "id": "7b5b44c1-3ab5-499f-a2f5-3f41d8201b18",
   "metadata": {},
   "outputs": [],
   "source": [
    "X_2d = iris.data[[\"petal width (cm)\"]].values\n",
    "X = iris.data.values\n",
    "y = iris.target_names[iris.target] == 'virginica'"
   ]
  },
  {
   "cell_type": "code",
   "execution_count": 7,
   "id": "fa0c00ce-f36f-40ba-98fa-944d12d99df2",
   "metadata": {},
   "outputs": [
    {
     "name": "stdout",
     "output_type": "stream",
     "text": [
      "List of indices:\n",
      "[ 73  18 118  78  76  31  64 141  68  82 110  12  36   9  19  56 104  69\n",
      "  55 132  29 127  26 128 131 145 108 143  45  30  22  15  65  11  42 146\n",
      "  51  27   4  32 142  85  86  16  10  81 133 137  75 109  96 105  66   0\n",
      " 122  67  28  40  44  60 123  24  25  23  94  39  95 117  47  97 113  33\n",
      " 138 101  62  84 148  53   5  93 111  49  35  80  77  34 114   7  43  70\n",
      "  98 120  83 134 135  89   8  13 119 125   3  17  38  72 136   6 112 100\n",
      "   2  63  54 126  50 115  46 139  61 147  79  59  91  41  58  90  48  88\n",
      " 107 124  21  57 144 129  37 140   1  52 130 103  99 116  87  74 121 149\n",
      "  20  71 106  14  92 102]\n"
     ]
    }
   ],
   "source": [
    "np.random.seed(42)\n",
    "indices = np.random.permutation(len(X))\n",
    "print(f\"List of indices:\\n{indices}\")\n",
    "\n",
    "X_shuffled = X[indices]\n",
    "y_shuffled = y[indices]\n",
    "\n",
    "rows, cols = X_shuffled.shape\n",
    "\n",
    "rows_90 = np.int_(rows * 0.90)\n",
    "\n",
    "X_train, X_test = X_shuffled[:rows_90,:], X_shuffled[rows_90:, :]\n",
    "y_train, y_test = y_shuffled[:rows_90], y_shuffled[rows_90:]"
   ]
  },
  {
   "cell_type": "code",
   "execution_count": 8,
   "id": "5313b370-b5dd-4eaa-89b3-d028c5bc9bb1",
   "metadata": {},
   "outputs": [
    {
     "name": "stdout",
     "output_type": "stream",
     "text": [
      "X_train shape: (135, 4)\n",
      "y_train shape: (135,)\n"
     ]
    }
   ],
   "source": [
    "print(f\"X_train shape: {X_train.shape}\")\n",
    "print(f\"y_train shape: {y_train.shape}\")"
   ]
  },
  {
   "cell_type": "code",
   "execution_count": 9,
   "id": "b2993a1c-8fa2-4210-ac1e-94c3e7daa45d",
   "metadata": {},
   "outputs": [
    {
     "data": {
      "image/png": "[encoded data removed]",
      "text/plain": [
       "<Figure size 640x480 with 1 Axes>"
      ]
     },
     "metadata": {},
     "output_type": "display_data"
    }
   ],
   "source": [
    "fig, ax = plt.subplots()\n",
    "ax.scatter(X_2d, y, c=\"blue\")\n",
    "plt.grid()\n",
    "plt.show()"
   ]
  },
  {
   "cell_type": "code",
   "execution_count": 10,
   "id": "ec63951c-0d94-4144-a870-4101b62e6040",
   "metadata": {},
   "outputs": [],
   "source": [
    "class LogisticRegression:\n",
    "    def __init__(self, epochs=100, lr=0.01, batch_size=32):\n",
    "        self.lr = lr\n",
    "        self.epochs = epochs\n",
    "        self.weights = None\n",
    "        self.batch_size = batch_size\n",
    "        self.bias = 0\n",
    "        \n",
    "    def fit(self, X, y):\n",
    "        self.samples, self.features = X.shape\n",
    "        self.weights = np.random.rand(self.features, 1).astype(np.float32)\n",
    "        self.bias = np.random.rand(1).astype(np.float32).item()\n",
    "    \n",
    "        n = y.shape[0]\n",
    "        batches = (self.samples + self.batch_size -1) // self.batch_size\n",
    "\n",
    "        original_X = X.copy()\n",
    "        original_y = y.copy()\n",
    "        for epoch in range(self.epochs):\n",
    "            \n",
    "            total_loss = 0.0\n",
    "            total_samples = 0\n",
    "            \n",
    "            indices = np.random.permutation(self.samples)\n",
    "            X_shuffled = original_X[indices]\n",
    "            y_shuffled = original_y[indices]\n",
    "            \n",
    "            for batch in range(batches):\n",
    "                start = batch * self.batch_size\n",
    "                end = min((batch + 1) * self.batch_size, self.samples)\n",
    "                \n",
    "                X_batch = X_shuffled[start:end]\n",
    "                y_batch = y_shuffled[start:end]\n",
    "                N = X_batch.shape[0] # batch samples\n",
    "                y_pred = self.predict(X_batch)\n",
    "                loss = self.loss_function(y_pred, y_batch)\n",
    "                \n",
    "                #Gradient descent\n",
    "                self.weights = self.weights - self.lr/N * np.dot(X_batch.T, (y_pred - y_batch.reshape(-1, 1)))\n",
    "                self.bias = self.bias - self.lr * np.mean(y_pred -y_batch.reshape(-1,1))\n",
    "                total_loss += loss\n",
    "                total_samples += N\n",
    "            print(f\"Epoch: {epoch+1}/{self.epochs} Loss training: {total_loss/total_samples:.4f}\")\n",
    "    \n",
    "    def predict(self, X):\n",
    "        if self.weights is None:\n",
    "            raise ValueError(\"Model must train before predicting\")\n",
    "        \n",
    "        return self.sigmoid(np.dot(X, self.weights) + self.bias)\n",
    "\n",
    "    def predict_class(self, X):\n",
    "        probas = self.predict(X)\n",
    "        return (probas >= 0.5).astype(int).flatten()\n",
    "        \n",
    "    def loss_function(self, y_pred, y_true):\n",
    "        if y_pred.shape[0] != y_true.shape[0]:\n",
    "            raise ValueError(f\"Predictions and labels must have the same size: {y_pred.shape} != {y_true.shape}\")\n",
    "            \n",
    "        epsilon = 1e-15\n",
    "        y_pred = np.clip(y_pred, epsilon, 1 - epsilon)\n",
    "        return -np.mean(y_true * np.log(y_pred) + (1 - y_true) * np.log(1 - y_pred))\n",
    "        \n",
    "    def sigmoid(self, z):\n",
    "        return 1/(1 + np.exp(-z))"
   ]
  },
  {
   "cell_type": "code",
   "execution_count": 11,
   "id": "45b03e97-db6d-4214-9f02-d5ca402d2c4a",
   "metadata": {},
   "outputs": [
    {
     "name": "stdout",
     "output_type": "stream",
     "text": [
      "Epoch: 1/100 Loss training: 0.1283\n",
      "Epoch: 2/100 Loss training: 0.0871\n",
      "Epoch: 3/100 Loss training: 0.0534\n",
      "Epoch: 4/100 Loss training: 0.0361\n",
      "Epoch: 5/100 Loss training: 0.0284\n",
      "Epoch: 6/100 Loss training: 0.0259\n",
      "Epoch: 7/100 Loss training: 0.0255\n",
      "Epoch: 8/100 Loss training: 0.0256\n",
      "Epoch: 9/100 Loss training: 0.0254\n",
      "Epoch: 10/100 Loss training: 0.0253\n",
      "Epoch: 11/100 Loss training: 0.0236\n",
      "Epoch: 12/100 Loss training: 0.0254\n",
      "Epoch: 13/100 Loss training: 0.0253\n",
      "Epoch: 14/100 Loss training: 0.0248\n",
      "Epoch: 15/100 Loss training: 0.0252\n",
      "Epoch: 16/100 Loss training: 0.0245\n",
      "Epoch: 17/100 Loss training: 0.0237\n",
      "Epoch: 18/100 Loss training: 0.0259\n",
      "Epoch: 19/100 Loss training: 0.0253\n",
      "Epoch: 20/100 Loss training: 0.0254\n",
      "Epoch: 21/100 Loss training: 0.0260\n",
      "Epoch: 22/100 Loss training: 0.0256\n",
      "Epoch: 23/100 Loss training: 0.0257\n",
      "Epoch: 24/100 Loss training: 0.0258\n",
      "Epoch: 25/100 Loss training: 0.0269\n",
      "Epoch: 26/100 Loss training: 0.0264\n",
      "Epoch: 27/100 Loss training: 0.0257\n",
      "Epoch: 28/100 Loss training: 0.0263\n",
      "Epoch: 29/100 Loss training: 0.0254\n",
      "Epoch: 30/100 Loss training: 0.0266\n",
      "Epoch: 31/100 Loss training: 0.0279\n",
      "Epoch: 32/100 Loss training: 0.0260\n",
      "Epoch: 33/100 Loss training: 0.0275\n",
      "Epoch: 34/100 Loss training: 0.0270\n",
      "Epoch: 35/100 Loss training: 0.0279\n",
      "Epoch: 36/100 Loss training: 0.0263\n",
      "Epoch: 37/100 Loss training: 0.0283\n",
      "Epoch: 38/100 Loss training: 0.0237\n",
      "Epoch: 39/100 Loss training: 0.0272\n",
      "Epoch: 40/100 Loss training: 0.0266\n",
      "Epoch: 41/100 Loss training: 0.0272\n",
      "Epoch: 42/100 Loss training: 0.0277\n",
      "Epoch: 43/100 Loss training: 0.0271\n",
      "Epoch: 44/100 Loss training: 0.0284\n",
      "Epoch: 45/100 Loss training: 0.0259\n",
      "Epoch: 46/100 Loss training: 0.0246\n",
      "Epoch: 47/100 Loss training: 0.0287\n",
      "Epoch: 48/100 Loss training: 0.0271\n",
      "Epoch: 49/100 Loss training: 0.0278\n",
      "Epoch: 50/100 Loss training: 0.0272\n",
      "Epoch: 51/100 Loss training: 0.0267\n",
      "Epoch: 52/100 Loss training: 0.0273\n",
      "Epoch: 53/100 Loss training: 0.0283\n",
      "Epoch: 54/100 Loss training: 0.0271\n",
      "Epoch: 55/100 Loss training: 0.0286\n",
      "Epoch: 56/100 Loss training: 0.0288\n",
      "Epoch: 57/100 Loss training: 0.0287\n",
      "Epoch: 58/100 Loss training: 0.0290\n",
      "Epoch: 59/100 Loss training: 0.0283\n",
      "Epoch: 60/100 Loss training: 0.0287\n",
      "Epoch: 61/100 Loss training: 0.0297\n",
      "Epoch: 62/100 Loss training: 0.0300\n",
      "Epoch: 63/100 Loss training: 0.0293\n",
      "Epoch: 64/100 Loss training: 0.0295\n",
      "Epoch: 65/100 Loss training: 0.0283\n",
      "Epoch: 66/100 Loss training: 0.0300\n",
      "Epoch: 67/100 Loss training: 0.0295\n",
      "Epoch: 68/100 Loss training: 0.0304\n",
      "Epoch: 69/100 Loss training: 0.0304\n",
      "Epoch: 70/100 Loss training: 0.0298\n",
      "Epoch: 71/100 Loss training: 0.0313\n",
      "Epoch: 72/100 Loss training: 0.0304\n",
      "Epoch: 73/100 Loss training: 0.0303\n",
      "Epoch: 74/100 Loss training: 0.0258\n",
      "Epoch: 75/100 Loss training: 0.0322\n",
      "Epoch: 76/100 Loss training: 0.0293\n",
      "Epoch: 77/100 Loss training: 0.0297\n",
      "Epoch: 78/100 Loss training: 0.0292\n",
      "Epoch: 79/100 Loss training: 0.0303\n",
      "Epoch: 80/100 Loss training: 0.0314\n",
      "Epoch: 81/100 Loss training: 0.0304\n",
      "Epoch: 82/100 Loss training: 0.0303\n",
      "Epoch: 83/100 Loss training: 0.0308\n",
      "Epoch: 84/100 Loss training: 0.0309\n",
      "Epoch: 85/100 Loss training: 0.0310\n",
      "Epoch: 86/100 Loss training: 0.0319\n",
      "Epoch: 87/100 Loss training: 0.0317\n",
      "Epoch: 88/100 Loss training: 0.0304\n",
      "Epoch: 89/100 Loss training: 0.0311\n",
      "Epoch: 90/100 Loss training: 0.0322\n",
      "Epoch: 91/100 Loss training: 0.0286\n",
      "Epoch: 92/100 Loss training: 0.0302\n",
      "Epoch: 93/100 Loss training: 0.0310\n",
      "Epoch: 94/100 Loss training: 0.0308\n",
      "Epoch: 95/100 Loss training: 0.0327\n",
      "Epoch: 96/100 Loss training: 0.0315\n",
      "Epoch: 97/100 Loss training: 0.0313\n",
      "Epoch: 98/100 Loss training: 0.0313\n",
      "Epoch: 99/100 Loss training: 0.0325\n",
      "Epoch: 100/100 Loss training: 0.0316\n"
     ]
    }
   ],
   "source": [
    "log_reg = LogisticRegression(epochs=100, lr=0.01)\n",
    "log_reg.fit(X_train, y_train)"
   ]
  },
  {
   "cell_type": "code",
   "execution_count": 12,
   "id": "84525fc1-7f82-4ee4-9765-d00feec3e74a",
   "metadata": {},
   "outputs": [],
   "source": [
    "def confusion_matrix(y_pred, y_true):\n",
    "    \"\"\"\n",
    "    Function to compute the confusion matrix, accuracy, recall, and precision.\n",
    "    \n",
    "    Parameters:\n",
    "    y_pred (array-like): Predicted labels.\n",
    "    y_true (array-like): True labels.\n",
    "    \n",
    "    Returns:\n",
    "    cm (numpy.ndarray): Confusion matrix.\n",
    "    accuracy (float): Accuracy score.\n",
    "    recall (float): Recall score.\n",
    "    precision (float): Precision score.\n",
    "    \"\"\"\n",
    "    if len(y_pred) != len(y_true):\n",
    "        raise ValueError(f\"Predictions and labels have not the same size: {len(y_pred)} != {len(y_true)}\")\n",
    "        \n",
    "    cm = np.zeros((2,2), dtype=np.float32)\n",
    "    for i in range(len(y_true)):\n",
    "        if y_pred[i] == 0 and y_true[i] == 0: # True Negative\n",
    "            cm[1, 1] += 1\n",
    "        elif y_pred[i] == 1 and y_true[i] == 1: # True Positive\n",
    "            cm[0, 0] += 1\n",
    "        elif y_pred[i] == 0 and y_true[i] == 1: # False Negative\n",
    "            cm[0, 1] += 1\n",
    "        elif y_pred[i] == 1 and y_true[i] == 0: # False Positive\n",
    "            cm[1, 0] += 1\n",
    "\n",
    "    recall = cm[0, 0] / (cm[0, 0] + cm[0, 1])  # TP / (TP + FN)\n",
    "    precision = cm[0, 0] / (cm[0, 0] + cm[1, 0])  # TP / (TP + FP)\n",
    "    accuracy = (cm[0, 0] + cm[1, 1]) / (cm[0, 0] + cm[1, 0] + cm[1, 1] + cm[0, 1])  # (TP + TN) / (TP + FP + TN + FN)\n",
    "            \n",
    "    return cm, accuracy, recall, precision"
   ]
  },
  {
   "cell_type": "code",
   "execution_count": 13,
   "id": "dd03722d-12f9-4af4-8d54-1ad4eecf65fb",
   "metadata": {},
   "outputs": [],
   "source": [
    "y_pred_lr = log_reg.predict_class(X_test)"
   ]
  },
  {
   "cell_type": "code",
   "execution_count": 14,
   "id": "8985fa54-83fd-4c18-833e-d99e45480427",
   "metadata": {},
   "outputs": [
    {
     "name": "stdout",
     "output_type": "stream",
     "text": [
      "Confusion matrix:\n",
      "[[7. 0.]\n",
      " [0. 8.]]\n",
      "Accuracy: 1.0\n",
      "Recall: 1.0\n",
      "Precision: 1.0\n"
     ]
    }
   ],
   "source": [
    "cm, accuracy, recall, precision = confusion_matrix(y_pred_lr, y_test)\n",
    "print(f\"Confusion matrix:\\n{cm}\\nAccuracy: {accuracy}\\nRecall: {recall}\\nPrecision: {precision}\")"
   ]
  },
  {
   "cell_type": "markdown",
   "id": "a49aa943-4835-4221-af77-ac1bed8e4996",
   "metadata": {},
   "source": [
    "# LogisticRegression from scikit-learn implementation"
   ]
  },
  {
   "cell_type": "code",
   "execution_count": 15,
   "id": "4c157de8-cd78-479d-8155-d44378fc123c",
   "metadata": {},
   "outputs": [],
   "source": [
    "from sklearn.linear_model import LogisticRegression"
   ]
  },
  {
   "cell_type": "code",
   "execution_count": 16,
   "id": "e39709b5-21ce-4006-8ca1-a1b1c4ecfaf3",
   "metadata": {},
   "outputs": [],
   "source": [
    "sk_log_reg = LogisticRegression(max_iter=100)\n",
    "sk_log_reg.fit(X_train, y_train)\n",
    "y_pred_sk = sk_log_reg.predict(X_test)"
   ]
  },
  {
   "cell_type": "code",
   "execution_count": 17,
   "id": "cf96f744-45c3-49b6-b544-0f10027cc681",
   "metadata": {},
   "outputs": [
    {
     "name": "stdout",
     "output_type": "stream",
     "text": [
      "Confusion matrix:\n",
      "[[6. 1.]\n",
      " [0. 8.]]\n",
      "Accuracy: 0.9333333373069763\n",
      "Recall: 0.8571428656578064\n",
      "Precision: 1.0\n"
     ]
    }
   ],
   "source": [
    "cm, accuracy, recall, precision = confusion_matrix(y_pred_sk, y_test)\n",
    "print(f\"Confusion matrix:\\n{cm}\\nAccuracy: {accuracy}\\nRecall: {recall}\\nPrecision: {precision}\")"
   ]
  }
 ],
 "metadata": {
  "kernelspec": {
   "display_name": "Python 3 (ipykernel)",
   "language": "python",
   "name": "python3"
  },
  "language_info": {
   "codemirror_mode": {
    "name": "ipython",
    "version": 3
   },
   "file_extension": ".py",
   "mimetype": "text/x-python",
   "name": "python",
   "nbconvert_exporter": "python",
   "pygments_lexer": "ipython3",
   "version": "3.12.8"
  }
 },
 "nbformat": 4,
 "nbformat_minor": 5
}
